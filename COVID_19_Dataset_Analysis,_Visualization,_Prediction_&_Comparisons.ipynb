{
  "nbformat": 4,
  "nbformat_minor": 0,
  "metadata": {
    "colab": {
      "name": "COVID-19 Dataset  Analysis, Visualization, Prediction & Comparisons",
      "provenance": [],
      "collapsed_sections": []
    },
    "kernelspec": {
      "name": "python3",
      "display_name": "Python 3"
    }
  },
  "cells": [
    {
      "cell_type": "markdown",
      "metadata": {
        "id": "lhaGlrfrp4rs",
        "colab_type": "text"
      },
      "source": [
        "#COVID-19 Dataset  Analysis, Visualization, Prediction & Comparisons"
      ]
    },
    {
      "cell_type": "markdown",
      "metadata": {
        "id": "nHTnO2DETTSx",
        "colab_type": "text"
      },
      "source": [
        "Data Source (Date wise) : 2019 Novel Coronavirus COVID-19 (2019-nCoV) Data Repository by Johns Hopkins CSSE\n",
        "\n",
        "Data Source: https://github.com/CSSEGISandData/COVID-19/tree/master/csse_covid_19_data/csse_covid_19_daily_reports"
      ]
    },
    {
      "cell_type": "code",
      "metadata": {
        "id": "ghNwXHcYQvx7",
        "colab_type": "code",
        "colab": {}
      },
      "source": [
        "from IPython.core.interactiveshell import InteractiveShell\n",
        "InteractiveShell.ast_node_interactivity = \"all\"\n",
        "\n",
        "import warnings\n",
        "warnings.filterwarnings('ignore')\n",
        "\n",
        "import pandas as pd\n",
        "\n",
        "pd.options.display.max_columns\n",
        "pd.set_option('display.max_columns', None)\n",
        "pd.options.display.max_rows\n",
        "pd.set_option('display.max_rows', 5)\n",
        "\n",
        "data = pd.read_csv('https://raw.githubusercontent.com/CSSEGISandData/COVID-19/master/csse_covid_19_data/csse_covid_19_daily_reports/03-17-2020.csv')"
      ],
      "execution_count": 0,
      "outputs": []
    },
    {
      "cell_type": "markdown",
      "metadata": {
        "id": "kj9wuiAETBQO",
        "colab_type": "text"
      },
      "source": [
        "**Task 1.** Write a Python program to display first 5 rows from COVID-19 dataset. Also\n",
        "print the dataset information and check the missing values."
      ]
    },
    {
      "cell_type": "code",
      "metadata": {
        "id": "JCIN_yuTS8Vw",
        "colab_type": "code",
        "outputId": "1c430858-46c3-437f-e07e-1942029b2b80",
        "colab": {
          "base_uri": "https://localhost:8080/",
          "height": 493
        }
      },
      "source": [
        "print('\\nShape of Data: ', data.shape[0], 'rows &', data.shape[1], 'columns')\n",
        "\n",
        "print('\\nData Information: ')\n",
        "data.info()\n",
        "\n",
        "print('\\nTotal number of NaNs in Data (column-wise):\\n')\n",
        "data.isna().sum()"
      ],
      "execution_count": 0,
      "outputs": [
        {
          "output_type": "stream",
          "text": [
            "\n",
            "Shape of Data:  276 rows & 8 columns\n",
            "\n",
            "Data Information: \n",
            "<class 'pandas.core.frame.DataFrame'>\n",
            "RangeIndex: 276 entries, 0 to 275\n",
            "Data columns (total 8 columns):\n",
            " #   Column          Non-Null Count  Dtype  \n",
            "---  ------          --------------  -----  \n",
            " 0   Province/State  126 non-null    object \n",
            " 1   Country/Region  276 non-null    object \n",
            " 2   Last Update     276 non-null    object \n",
            " 3   Confirmed       276 non-null    int64  \n",
            " 4   Deaths          276 non-null    int64  \n",
            " 5   Recovered       276 non-null    int64  \n",
            " 6   Latitude        276 non-null    float64\n",
            " 7   Longitude       276 non-null    float64\n",
            "dtypes: float64(2), int64(3), object(3)\n",
            "memory usage: 17.4+ KB\n",
            "\n",
            "Total number of NaNs in Data (column-wise):\n",
            "\n"
          ],
          "name": "stdout"
        },
        {
          "output_type": "execute_result",
          "data": {
            "text/plain": [
              "Province/State    150\n",
              "Country/Region      0\n",
              "                 ... \n",
              "Latitude            0\n",
              "Longitude           0\n",
              "Length: 8, dtype: int64"
            ]
          },
          "metadata": {
            "tags": []
          },
          "execution_count": 2
        }
      ]
    },
    {
      "cell_type": "markdown",
      "metadata": {
        "id": "h1ymIvkhYsMM",
        "colab_type": "text"
      },
      "source": [
        "**Task 2:** Write a Python program to get the number of occurences of each country & the latest number of confirmed, deaths, recovered and active cases of Novel Coronavirus (COVID-19) country wise."
      ]
    },
    {
      "cell_type": "code",
      "metadata": {
        "id": "_NnjfVhZZH3t",
        "colab_type": "code",
        "outputId": "29b42077-ec9d-4eca-b52e-4b9045d277f8",
        "colab": {
          "base_uri": "https://localhost:8080/",
          "height": 417
        }
      },
      "source": [
        "print('Number of occurences of each country:')\n",
        "data['Country/Region'].value_counts().sort_index()\n",
        "\n",
        "# Creation of \"Active\" column\n",
        "data['Active'] = data['Confirmed'] - (data['Deaths'] + data['Recovered'])\n",
        "\n",
        "print('\\n\\nLatest Trends (Confirmed, Deaths, Recovered, Active Cases) Country Wise:')\n",
        "data.groupby('Country/Region')['Confirmed', 'Deaths', 'Recovered', 'Active'].sum()"
      ],
      "execution_count": 0,
      "outputs": [
        {
          "output_type": "stream",
          "text": [
            "Number of occurences of each country:\n"
          ],
          "name": "stdout"
        },
        {
          "output_type": "execute_result",
          "data": {
            "text/plain": [
              "Afghanistan                       1\n",
              "Albania                           1\n",
              "                                 ..\n",
              "Vietnam                           1\n",
              "occupied Palestinian territory    1\n",
              "Name: Country/Region, Length: 159, dtype: int64"
            ]
          },
          "metadata": {
            "tags": []
          },
          "execution_count": 3
        },
        {
          "output_type": "stream",
          "text": [
            "\n",
            "\n",
            "Latest Trends (Confirmed, Deaths, Recovered, Active Cases) Country Wise:\n"
          ],
          "name": "stdout"
        },
        {
          "output_type": "execute_result",
          "data": {
            "text/html": [
              "<div>\n",
              "<style scoped>\n",
              "    .dataframe tbody tr th:only-of-type {\n",
              "        vertical-align: middle;\n",
              "    }\n",
              "\n",
              "    .dataframe tbody tr th {\n",
              "        vertical-align: top;\n",
              "    }\n",
              "\n",
              "    .dataframe thead th {\n",
              "        text-align: right;\n",
              "    }\n",
              "</style>\n",
              "<table border=\"1\" class=\"dataframe\">\n",
              "  <thead>\n",
              "    <tr style=\"text-align: right;\">\n",
              "      <th></th>\n",
              "      <th>Confirmed</th>\n",
              "      <th>Deaths</th>\n",
              "      <th>Recovered</th>\n",
              "      <th>Active</th>\n",
              "    </tr>\n",
              "    <tr>\n",
              "      <th>Country/Region</th>\n",
              "      <th></th>\n",
              "      <th></th>\n",
              "      <th></th>\n",
              "      <th></th>\n",
              "    </tr>\n",
              "  </thead>\n",
              "  <tbody>\n",
              "    <tr>\n",
              "      <th>Afghanistan</th>\n",
              "      <td>22</td>\n",
              "      <td>0</td>\n",
              "      <td>1</td>\n",
              "      <td>21</td>\n",
              "    </tr>\n",
              "    <tr>\n",
              "      <th>Albania</th>\n",
              "      <td>55</td>\n",
              "      <td>1</td>\n",
              "      <td>0</td>\n",
              "      <td>54</td>\n",
              "    </tr>\n",
              "    <tr>\n",
              "      <th>...</th>\n",
              "      <td>...</td>\n",
              "      <td>...</td>\n",
              "      <td>...</td>\n",
              "      <td>...</td>\n",
              "    </tr>\n",
              "    <tr>\n",
              "      <th>Vietnam</th>\n",
              "      <td>66</td>\n",
              "      <td>0</td>\n",
              "      <td>16</td>\n",
              "      <td>50</td>\n",
              "    </tr>\n",
              "    <tr>\n",
              "      <th>occupied Palestinian territory</th>\n",
              "      <td>0</td>\n",
              "      <td>0</td>\n",
              "      <td>0</td>\n",
              "      <td>0</td>\n",
              "    </tr>\n",
              "  </tbody>\n",
              "</table>\n",
              "<p>159 rows × 4 columns</p>\n",
              "</div>"
            ],
            "text/plain": [
              "                                Confirmed  Deaths  Recovered  Active\n",
              "Country/Region                                                      \n",
              "Afghanistan                            22       0          1      21\n",
              "Albania                                55       1          0      54\n",
              "...                                   ...     ...        ...     ...\n",
              "Vietnam                                66       0         16      50\n",
              "occupied Palestinian territory          0       0          0       0\n",
              "\n",
              "[159 rows x 4 columns]"
            ]
          },
          "metadata": {
            "tags": []
          },
          "execution_count": 3
        }
      ]
    },
    {
      "cell_type": "markdown",
      "metadata": {
        "id": "InleoVpwg0-e",
        "colab_type": "text"
      },
      "source": [
        "**Task 3:** Write a Python program to get the latest number of active cases, confirmed cases, deaths and recovered people of Novel Coronavirus (COVID-19) cases Country/Region - Province/State wise."
      ]
    },
    {
      "cell_type": "code",
      "metadata": {
        "id": "7FCAZE-YhAPT",
        "colab_type": "code",
        "outputId": "2463992b-bdc8-40d2-c442-6abc9206e1af",
        "colab": {
          "base_uri": "https://localhost:8080/",
          "height": 281
        }
      },
      "source": [
        "print('Latest Trends (Active, Confirmed, Deaths, Recovered Cases) Country & Region Wise:')\n",
        "data.groupby(['Country/Region', 'Province/State'])['Active', 'Confirmed', 'Deaths', 'Recovered'].max()"
      ],
      "execution_count": 0,
      "outputs": [
        {
          "output_type": "stream",
          "text": [
            "Latest Trends (Active, Confirmed, Deaths, Recovered Cases) Country & Region Wise:\n"
          ],
          "name": "stdout"
        },
        {
          "output_type": "execute_result",
          "data": {
            "text/html": [
              "<div>\n",
              "<style scoped>\n",
              "    .dataframe tbody tr th:only-of-type {\n",
              "        vertical-align: middle;\n",
              "    }\n",
              "\n",
              "    .dataframe tbody tr th {\n",
              "        vertical-align: top;\n",
              "    }\n",
              "\n",
              "    .dataframe thead th {\n",
              "        text-align: right;\n",
              "    }\n",
              "</style>\n",
              "<table border=\"1\" class=\"dataframe\">\n",
              "  <thead>\n",
              "    <tr style=\"text-align: right;\">\n",
              "      <th></th>\n",
              "      <th></th>\n",
              "      <th>Active</th>\n",
              "      <th>Confirmed</th>\n",
              "      <th>Deaths</th>\n",
              "      <th>Recovered</th>\n",
              "    </tr>\n",
              "    <tr>\n",
              "      <th>Country/Region</th>\n",
              "      <th>Province/State</th>\n",
              "      <th></th>\n",
              "      <th></th>\n",
              "      <th></th>\n",
              "      <th></th>\n",
              "    </tr>\n",
              "  </thead>\n",
              "  <tbody>\n",
              "    <tr>\n",
              "      <th rowspan=\"2\" valign=\"top\">Australia</th>\n",
              "      <th>Australian Capital Territory</th>\n",
              "      <td>2</td>\n",
              "      <td>2</td>\n",
              "      <td>0</td>\n",
              "      <td>0</td>\n",
              "    </tr>\n",
              "    <tr>\n",
              "      <th>From Diamond Princess</th>\n",
              "      <td>0</td>\n",
              "      <td>0</td>\n",
              "      <td>0</td>\n",
              "      <td>0</td>\n",
              "    </tr>\n",
              "    <tr>\n",
              "      <th>...</th>\n",
              "      <th>...</th>\n",
              "      <td>...</td>\n",
              "      <td>...</td>\n",
              "      <td>...</td>\n",
              "      <td>...</td>\n",
              "    </tr>\n",
              "    <tr>\n",
              "      <th rowspan=\"2\" valign=\"top\">United Kingdom</th>\n",
              "      <th>Gibraltar</th>\n",
              "      <td>2</td>\n",
              "      <td>3</td>\n",
              "      <td>0</td>\n",
              "      <td>1</td>\n",
              "    </tr>\n",
              "    <tr>\n",
              "      <th>United Kingdom</th>\n",
              "      <td>1843</td>\n",
              "      <td>1950</td>\n",
              "      <td>55</td>\n",
              "      <td>52</td>\n",
              "    </tr>\n",
              "  </tbody>\n",
              "</table>\n",
              "<p>126 rows × 4 columns</p>\n",
              "</div>"
            ],
            "text/plain": [
              "                                             Active  Confirmed  Deaths  \\\n",
              "Country/Region Province/State                                            \n",
              "Australia      Australian Capital Territory       2          2       0   \n",
              "               From Diamond Princess              0          0       0   \n",
              "...                                             ...        ...     ...   \n",
              "United Kingdom Gibraltar                          2          3       0   \n",
              "               United Kingdom                  1843       1950      55   \n",
              "\n",
              "                                             Recovered  \n",
              "Country/Region Province/State                           \n",
              "Australia      Australian Capital Territory          0  \n",
              "               From Diamond Princess                 0  \n",
              "...                                                ...  \n",
              "United Kingdom Gibraltar                             1  \n",
              "               United Kingdom                       52  \n",
              "\n",
              "[126 rows x 4 columns]"
            ]
          },
          "metadata": {
            "tags": []
          },
          "execution_count": 4
        }
      ]
    },
    {
      "cell_type": "markdown",
      "metadata": {
        "id": "O-QzzV29inV2",
        "colab_type": "text"
      },
      "source": [
        "**Task 4:** Write a Python program to get the Chinese province wise cases of confirmed, deaths and recovered cases of Novel Coronavirus (COVID-19)."
      ]
    },
    {
      "cell_type": "code",
      "metadata": {
        "id": "XMiwMuGfixrI",
        "colab_type": "code",
        "outputId": "b24a9ba3-48ef-44f6-9650-f9c23ba8d62d",
        "colab": {
          "base_uri": "https://localhost:8080/",
          "height": 250
        }
      },
      "source": [
        "print('Latest Trends (Active, Confirmed, Deaths, Recovered Cases) in China (Region Wise):')\n",
        "china = data[data['Country/Region'] == 'China']\n",
        "china = china[['Province/State', 'Active', 'Confirmed', 'Deaths', 'Recovered']]\n",
        "china.sort_values(by='Province/State').reset_index(drop=True)"
      ],
      "execution_count": 0,
      "outputs": [
        {
          "output_type": "stream",
          "text": [
            "Latest Trends (Active, Confirmed, Deaths, Recovered Cases) in China (Region Wise):\n"
          ],
          "name": "stdout"
        },
        {
          "output_type": "execute_result",
          "data": {
            "text/html": [
              "<div>\n",
              "<style scoped>\n",
              "    .dataframe tbody tr th:only-of-type {\n",
              "        vertical-align: middle;\n",
              "    }\n",
              "\n",
              "    .dataframe tbody tr th {\n",
              "        vertical-align: top;\n",
              "    }\n",
              "\n",
              "    .dataframe thead th {\n",
              "        text-align: right;\n",
              "    }\n",
              "</style>\n",
              "<table border=\"1\" class=\"dataframe\">\n",
              "  <thead>\n",
              "    <tr style=\"text-align: right;\">\n",
              "      <th></th>\n",
              "      <th>Province/State</th>\n",
              "      <th>Active</th>\n",
              "      <th>Confirmed</th>\n",
              "      <th>Deaths</th>\n",
              "      <th>Recovered</th>\n",
              "    </tr>\n",
              "  </thead>\n",
              "  <tbody>\n",
              "    <tr>\n",
              "      <th>0</th>\n",
              "      <td>Anhui</td>\n",
              "      <td>0</td>\n",
              "      <td>990</td>\n",
              "      <td>6</td>\n",
              "      <td>984</td>\n",
              "    </tr>\n",
              "    <tr>\n",
              "      <th>1</th>\n",
              "      <td>Beijing</td>\n",
              "      <td>79</td>\n",
              "      <td>456</td>\n",
              "      <td>8</td>\n",
              "      <td>369</td>\n",
              "    </tr>\n",
              "    <tr>\n",
              "      <th>...</th>\n",
              "      <td>...</td>\n",
              "      <td>...</td>\n",
              "      <td>...</td>\n",
              "      <td>...</td>\n",
              "      <td>...</td>\n",
              "    </tr>\n",
              "    <tr>\n",
              "      <th>31</th>\n",
              "      <td>Yunnan</td>\n",
              "      <td>2</td>\n",
              "      <td>176</td>\n",
              "      <td>2</td>\n",
              "      <td>172</td>\n",
              "    </tr>\n",
              "    <tr>\n",
              "      <th>32</th>\n",
              "      <td>Zhejiang</td>\n",
              "      <td>15</td>\n",
              "      <td>1232</td>\n",
              "      <td>1</td>\n",
              "      <td>1216</td>\n",
              "    </tr>\n",
              "  </tbody>\n",
              "</table>\n",
              "<p>33 rows × 5 columns</p>\n",
              "</div>"
            ],
            "text/plain": [
              "   Province/State  Active  Confirmed  Deaths  Recovered\n",
              "0           Anhui       0        990       6        984\n",
              "1         Beijing      79        456       8        369\n",
              "..            ...     ...        ...     ...        ...\n",
              "31         Yunnan       2        176       2        172\n",
              "32       Zhejiang      15       1232       1       1216\n",
              "\n",
              "[33 rows x 5 columns]"
            ]
          },
          "metadata": {
            "tags": []
          },
          "execution_count": 5
        }
      ]
    },
    {
      "cell_type": "markdown",
      "metadata": {
        "id": "IJVfWjoXlDvY",
        "colab_type": "text"
      },
      "source": [
        "**Task 5:** Write a Python program to get the latest country wise deaths cases of Novel Coronavirus (COVID-19)."
      ]
    },
    {
      "cell_type": "markdown",
      "metadata": {
        "id": "tVLLgb13lDXZ",
        "colab_type": "text"
      },
      "source": [
        "**Task 6:** Write a Python program to list countries with no cases of Novel Coronavirus (COVID-19) recovered."
      ]
    },
    {
      "cell_type": "markdown",
      "metadata": {
        "id": "xofcackglLAK",
        "colab_type": "text"
      },
      "source": [
        "**Task 7:** Write a Python program to list countries with all cases of Novel Coronavirus (COVID-19) died."
      ]
    },
    {
      "cell_type": "markdown",
      "metadata": {
        "id": "0LwwfmBTlK2C",
        "colab_type": "text"
      },
      "source": [
        "**Task 8:** Write a Python program to list countries with all cases of Novel Coronavirus (COVID-19) recovered."
      ]
    },
    {
      "cell_type": "markdown",
      "metadata": {
        "id": "ADLV9OX5lKqy",
        "colab_type": "text"
      },
      "source": [
        "**Task 9:** Write a Python program to get the top 10 countries data (Last Update, Country/Region, Confirmed, Deaths, Recovered) of Novel Coronavirus (COVID-19)."
      ]
    },
    {
      "cell_type": "markdown",
      "metadata": {
        "id": "AiJKlEsNlKf0",
        "colab_type": "text"
      },
      "source": [
        "**Task 10:** Write a Python program to create a plot (lines) of total deaths, confirmed, recovered and active cases Country wise where deaths greater than 150."
      ]
    },
    {
      "cell_type": "markdown",
      "metadata": {
        "id": "j-RHb3IdlKVr",
        "colab_type": "text"
      },
      "source": [
        "**Task 11:** Write a Python program to visualize the state/province wise death cases of Novel Coronavirus (COVID-19) in USA."
      ]
    },
    {
      "cell_type": "markdown",
      "metadata": {
        "id": "cRg802RZlKJ8",
        "colab_type": "text"
      },
      "source": [
        "**Task 12:** Write a Python program to visualize the state/province wise Active cases of Novel Coronavirus (COVID-19) in USA."
      ]
    },
    {
      "cell_type": "markdown",
      "metadata": {
        "id": "JZr4q13_lJ81",
        "colab_type": "text"
      },
      "source": [
        "**Task 13:** Write a Python program to visualize the state/province wise combine number of confirmed, deaths, recovered, active Novel Coronavirus (COVID-19) cases in USA."
      ]
    },
    {
      "cell_type": "markdown",
      "metadata": {
        "id": "DrIttzx5lJuU",
        "colab_type": "text"
      },
      "source": [
        "**Task 14:** Write a Python program to visualize Worldwide Confirmed Novel Coronavirus (COVID-19) cases over time."
      ]
    }
  ]
}